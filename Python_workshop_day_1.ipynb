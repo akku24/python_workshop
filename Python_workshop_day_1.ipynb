{
  "nbformat": 4,
  "nbformat_minor": 0,
  "metadata": {
    "colab": {
      "name": "Python_workshop_day_1.ipynb",
      "provenance": [],
      "collapsed_sections": [],
      "authorship_tag": "ABX9TyMHJwE3jh0kquG7hYQrJiKS",
      "include_colab_link": true
    },
    "kernelspec": {
      "name": "python3",
      "display_name": "Python 3"
    }
  },
  "cells": [
    {
      "cell_type": "markdown",
      "metadata": {
        "id": "view-in-github",
        "colab_type": "text"
      },
      "source": [
        "<a href=\"https://colab.research.google.com/github/akku24/python_workshop/blob/main/Python_workshop_day_1.ipynb\" target=\"_parent\"><img src=\"https://colab.research.google.com/assets/colab-badge.svg\" alt=\"Open In Colab\"/></a>"
      ]
    },
    {
      "cell_type": "markdown",
      "metadata": {
        "id": "lzJtFNP93r8P"
      },
      "source": [
        "Hello World"
      ]
    },
    {
      "cell_type": "code",
      "metadata": {
        "id": "wqeAyyyp2EiK",
        "colab": {
          "base_uri": "https://localhost:8080/"
        },
        "outputId": "54f6df7f-1be7-4ddc-b6ce-d05fafcbffa0"
      },
      "source": [
        "print('Hello World!')"
      ],
      "execution_count": null,
      "outputs": [
        {
          "output_type": "stream",
          "text": [
            "Hello World!\n"
          ],
          "name": "stdout"
        }
      ]
    },
    {
      "cell_type": "code",
      "metadata": {
        "colab": {
          "base_uri": "https://localhost:8080/"
        },
        "id": "HeZkTt_93-Q4",
        "outputId": "85ab9a09-ede6-4949-8348-20a28e73c8f3"
      },
      "source": [
        "x = 5\n",
        "y = \"John\"\n",
        "print(x,y)"
      ],
      "execution_count": null,
      "outputs": [
        {
          "output_type": "stream",
          "text": [
            "5 John\n"
          ],
          "name": "stdout"
        }
      ]
    },
    {
      "cell_type": "code",
      "metadata": {
        "colab": {
          "base_uri": "https://localhost:8080/"
        },
        "id": "6NkVMxq66CQe",
        "outputId": "2349539d-e633-4752-a47a-e8aee6c85aa5"
      },
      "source": [
        "x, y, z, = 1, 2, 3\n",
        "print(x,y,z)"
      ],
      "execution_count": null,
      "outputs": [
        {
          "output_type": "stream",
          "text": [
            "1 2 3\n"
          ],
          "name": "stdout"
        }
      ]
    },
    {
      "cell_type": "code",
      "metadata": {
        "colab": {
          "base_uri": "https://localhost:8080/"
        },
        "id": "N7DEnJi39j3x",
        "outputId": "da1aedc1-f397-481f-9b45-c699a7e037f3"
      },
      "source": [
        "x, y, z = input(\"Enter the number >> \").split()\n",
        "print(x,y,z)"
      ],
      "execution_count": null,
      "outputs": [
        {
          "output_type": "stream",
          "text": [
            "Enter the number >> 1 2 3\n",
            "1 2 3\n"
          ],
          "name": "stdout"
        }
      ]
    },
    {
      "cell_type": "markdown",
      "metadata": {
        "id": "CSkpoaDMBi_s"
      },
      "source": [
        "#Exercise-1"
      ]
    },
    {
      "cell_type": "code",
      "metadata": {
        "colab": {
          "base_uri": "https://localhost:8080/"
        },
        "id": "_FRoQ0ua-cDg",
        "outputId": "90789091-abd3-4231-a464-fe52deea66ab"
      },
      "source": [
        "carname = 'Volvo'\n",
        "print(carname)"
      ],
      "execution_count": null,
      "outputs": [
        {
          "output_type": "stream",
          "text": [
            "Volvo\n"
          ],
          "name": "stdout"
        }
      ]
    },
    {
      "cell_type": "markdown",
      "metadata": {
        "id": "8BHOmEemCIc5"
      },
      "source": [
        "#Exercise-2"
      ]
    },
    {
      "cell_type": "code",
      "metadata": {
        "colab": {
          "base_uri": "https://localhost:8080/"
        },
        "id": "jkHXRq-DBDbQ",
        "outputId": "f6fc2894-3db1-4f2e-e475-8e30b65f2514"
      },
      "source": [
        "x = 50\n",
        "print(x, type(x))"
      ],
      "execution_count": null,
      "outputs": [
        {
          "output_type": "stream",
          "text": [
            "50 <class 'int'>\n"
          ],
          "name": "stdout"
        }
      ]
    },
    {
      "cell_type": "markdown",
      "metadata": {
        "id": "aEa-qCw5Cc3T"
      },
      "source": [
        "#Exercise-3"
      ]
    },
    {
      "cell_type": "code",
      "metadata": {
        "colab": {
          "base_uri": "https://localhost:8080/"
        },
        "id": "reKzRxq2BuHq",
        "outputId": "aaf51398-1564-47e6-9fe6-348308a8abe5"
      },
      "source": [
        "x, y = 5, 10\n",
        "print('Sum of x and y is >>',x+y)"
      ],
      "execution_count": null,
      "outputs": [
        {
          "output_type": "stream",
          "text": [
            "Sum of x and y is >> 15\n"
          ],
          "name": "stdout"
        }
      ]
    },
    {
      "cell_type": "markdown",
      "metadata": {
        "id": "1MWzW2MVDJr0"
      },
      "source": [
        "#Exercise-4"
      ]
    },
    {
      "cell_type": "code",
      "metadata": {
        "colab": {
          "base_uri": "https://localhost:8080/"
        },
        "id": "lM7is0BcClkP",
        "outputId": "0a752076-74af-4010-bb25-61f81b06b040"
      },
      "source": [
        "x, y = 11, 17\n",
        "z = x+y\n",
        "print(\"sum of x + y is >>\",z)"
      ],
      "execution_count": null,
      "outputs": [
        {
          "output_type": "stream",
          "text": [
            "sum of x + y is >> 28\n"
          ],
          "name": "stdout"
        }
      ]
    },
    {
      "cell_type": "code",
      "metadata": {
        "id": "1V9dWo8RHs3G",
        "colab": {
          "base_uri": "https://localhost:8080/"
        },
        "outputId": "de1047b0-9e27-4256-cf82-fae316138c30"
      },
      "source": [
        "x1 = \"Hello World\"  #String\n",
        "x2 = 10             #integer\n",
        "x3 = 10.1           #float\n",
        "x4 = [\"apple\",\"banana\",\"cherry\"]  #list\n",
        "x5 = (\"apple\",\"banana\",\"cherry\")  #tuple\n",
        "x6 = range(6)  #range\n",
        "x7 = {\"name\": \"Johnwick\", \"age\" : 36}  #dictionary\n",
        "x8 = {\"apple\",\"banana\",\"cherry\"}       #set\n",
        "x9 = True   #bool\n",
        "print(x1,x2,x3,x4,x5,x6,x7,x8,x9,sep='\\n')"
      ],
      "execution_count": null,
      "outputs": [
        {
          "output_type": "stream",
          "text": [
            "Hello World\n",
            "10\n",
            "10.1\n",
            "['apple', 'banana', 'cherry']\n",
            "('apple', 'banana', 'cherry')\n",
            "range(0, 6)\n",
            "{'name': 'Johnwick', 'age': 36}\n",
            "{'apple', 'cherry', 'banana'}\n",
            "True\n"
          ],
          "name": "stdout"
        }
      ]
    },
    {
      "cell_type": "markdown",
      "metadata": {
        "id": "FHh03Vrxbl1J"
      },
      "source": [
        "#Assignment-1"
      ]
    },
    {
      "cell_type": "code",
      "metadata": {
        "colab": {
          "base_uri": "https://localhost:8080/"
        },
        "id": "YsINcl8LRsQZ",
        "outputId": "68b0c64d-e1e5-48d1-8920-e026248de165"
      },
      "source": [
        "x = 2\n",
        "y = 3\n",
        "a = str(x)\n",
        "b = str(y)\n",
        "print(a + b)"
      ],
      "execution_count": null,
      "outputs": [
        {
          "output_type": "stream",
          "text": [
            "23\n"
          ],
          "name": "stdout"
        }
      ]
    },
    {
      "cell_type": "code",
      "metadata": {
        "colab": {
          "base_uri": "https://localhost:8080/"
        },
        "id": "lhS9r8hzeCvp",
        "outputId": "f90a5b9d-eaa7-4cff-b758-d151c5a5b24b"
      },
      "source": [
        "a = \"Hello World\"\n",
        "print(a[2])\n",
        "print(len(a))\n",
        "b = \"Hello World\"\n",
        "print(b[-5:-2])"
      ],
      "execution_count": null,
      "outputs": [
        {
          "output_type": "stream",
          "text": [
            "l\n",
            "11\n",
            "Wor\n"
          ],
          "name": "stdout"
        }
      ]
    },
    {
      "cell_type": "code",
      "metadata": {
        "colab": {
          "base_uri": "https://localhost:8080/"
        },
        "id": "Bk9sS-8Xhn1l",
        "outputId": "9abfdbd0-04f0-46a3-82ec-1a72dde9d299"
      },
      "source": [
        "a = \"hello world\" \n",
        "print(a.capitalize())"
      ],
      "execution_count": null,
      "outputs": [
        {
          "output_type": "stream",
          "text": [
            "Hello world\n"
          ],
          "name": "stdout"
        }
      ]
    },
    {
      "cell_type": "code",
      "metadata": {
        "colab": {
          "base_uri": "https://localhost:8080/"
        },
        "id": "HdOls3mS3wgF",
        "outputId": "af4aa401-0c47-4c90-9ba2-9555bb9afb72"
      },
      "source": [
        "name = 'alvas'\n",
        "print(len(name))\n",
        "print(name[:4])\n",
        "print(name.upper())\n",
        "print(name + \" college\")\n",
        "a = 'alvas {}'\n",
        "b = 'college'\n",
        "print(a.format(b))\n",
        "print(name.isdigit())"
      ],
      "execution_count": 67,
      "outputs": [
        {
          "output_type": "stream",
          "text": [
            "5\n",
            "alva\n",
            "ALVAS\n",
            "alvas college\n",
            "alvas college\n",
            "False\n"
          ],
          "name": "stdout"
        }
      ]
    },
    {
      "cell_type": "code",
      "metadata": {
        "colab": {
          "base_uri": "https://localhost:8080/"
        },
        "id": "1-YZE8zu6T3A",
        "outputId": "9ef32aee-309d-4ab7-c852-2a091d7e22b0"
      },
      "source": [
        "print(10+9)"
      ],
      "execution_count": 73,
      "outputs": [
        {
          "output_type": "stream",
          "text": [
            "19\n"
          ],
          "name": "stdout"
        }
      ]
    },
    {
      "cell_type": "code",
      "metadata": {
        "colab": {
          "base_uri": "https://localhost:8080/"
        },
        "id": "ahOBpQJL7xw4",
        "outputId": "9f2ceecc-1e56-421e-8d62-79aa0fc31666"
      },
      "source": [
        "x = 5\n",
        "x += 5 #x = x + 5\n",
        "print(x)"
      ],
      "execution_count": 77,
      "outputs": [
        {
          "output_type": "stream",
          "text": [
            "10\n"
          ],
          "name": "stdout"
        }
      ]
    },
    {
      "cell_type": "code",
      "metadata": {
        "colab": {
          "base_uri": "https://localhost:8080/"
        },
        "id": "5m1yA6oZ7-RD",
        "outputId": "b1c920c3-f0df-4835-e1ae-0a0f0f621deb"
      },
      "source": [
        "a, b = input(\"Enter two numbers to perform all the oprations >> \").split()\n",
        "a = int(a)\n",
        "b = int(b)\n",
        "print(\"Sum >> \",a+b)\n",
        "print(\"Subtraction of a and b (a-b) >> \",a-b)\n",
        "print(\"Multiplication >> \",a*b)\n",
        "print(\"Division >> \",a/b)\n",
        "print(\"a power b >> \",a**b)\n",
        "\n"
      ],
      "execution_count": 84,
      "outputs": [
        {
          "output_type": "stream",
          "text": [
            "Enter two numbers to perform all the oprations >> 2 5\n",
            "Sum >>  7\n",
            "Subtraction of a and b (a-b) >>  -3\n",
            "Multiplication >>  10\n",
            "Division >>  0.4\n",
            "a power b >>  32\n"
          ],
          "name": "stdout"
        }
      ]
    }
  ]
}