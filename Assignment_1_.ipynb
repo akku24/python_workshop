{
  "nbformat": 4,
  "nbformat_minor": 0,
  "metadata": {
    "colab": {
      "name": "Assignment_1 .ipynb",
      "provenance": [],
      "collapsed_sections": [],
      "authorship_tag": "ABX9TyOH8oyI7zvXJYC59wGkYMiu",
      "include_colab_link": true
    },
    "kernelspec": {
      "name": "python3",
      "display_name": "Python 3"
    }
  },
  "cells": [
    {
      "cell_type": "markdown",
      "metadata": {
        "id": "view-in-github",
        "colab_type": "text"
      },
      "source": [
        "<a href=\"https://colab.research.google.com/github/akku24/python_workshop/blob/main/Assignment_1_.ipynb\" target=\"_parent\"><img src=\"https://colab.research.google.com/assets/colab-badge.svg\" alt=\"Open In Colab\"/></a>"
      ]
    },
    {
      "cell_type": "code",
      "metadata": {
        "colab": {
          "base_uri": "https://localhost:8080/"
        },
        "id": "DEk9yvxNoC0L",
        "outputId": "63bdd4a1-dd65-492c-d265-315c571e619c"
      },
      "source": [
        "student = []\n",
        "student.append(input(\"Enter your name >> \"))\n",
        "print(student)\n",
        "student.append(input(\"Enter your USN >> \"))\n",
        "print(student)\n",
        "branch = input(\"Enter your Branch >> \")\n",
        "phno = int(input(\"Enter your mobile number >> \"))\n",
        "sec = input(\"Enter your section >> \")\n",
        "student.append(branch)\n",
        "student.append(phno)\n",
        "student.append(sec)\n",
        "print(student)\n",
        "student.reverse()\n",
        "print(student)"
      ],
      "execution_count": 8,
      "outputs": [
        {
          "output_type": "stream",
          "text": [
            "Enter your name >> Ahlesh\n",
            "['Ahlesh']\n",
            "Enter your USN >> kfgwelk\n",
            "['Ahlesh', 'kfgwelk']\n",
            "Enter your Branch >> cse\n",
            "Enter your mobile number >> 2389037928\n",
            "Enter your section >> a\n",
            "['Ahlesh', 'kfgwelk', 'cse', 2389037928, 'a']\n",
            "['a', 2389037928, 'cse', 'kfgwelk', 'Ahlesh']\n"
          ],
          "name": "stdout"
        }
      ]
    },
    {
      "cell_type": "code",
      "metadata": {
        "id": "8I3VwDy1rX0-"
      },
      "source": [
        ""
      ],
      "execution_count": null,
      "outputs": []
    }
  ]
}